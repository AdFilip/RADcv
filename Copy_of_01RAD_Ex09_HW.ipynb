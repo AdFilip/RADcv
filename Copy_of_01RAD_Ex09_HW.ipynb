{
  "nbformat": 4,
  "nbformat_minor": 0,
  "metadata": {
    "colab": {
      "private_outputs": true,
      "provenance": [],
      "include_colab_link": true
    },
    "kernelspec": {
      "name": "python3",
      "display_name": "Python 3"
    },
    "language_info": {
      "name": "python"
    }
  },
  "cells": [
    {
      "cell_type": "markdown",
      "metadata": {
        "id": "view-in-github",
        "colab_type": "text"
      },
      "source": [
        "<a href=\"https://colab.research.google.com/github/AdFilip/RADcv/blob/main/Copy_of_01RAD_Ex09_HW.ipynb\" target=\"_parent\"><img src=\"https://colab.research.google.com/assets/colab-badge.svg\" alt=\"Open In Colab\"/></a>"
      ]
    },
    {
      "cell_type": "markdown",
      "source": [
        "# 01RAD  Exercise 09 - Homework\n",
        "\n",
        "Authors: Your names here  \n",
        "Date: 2024-12-03  \n",
        "\n",
        "---\n",
        "\n",
        "## Task Description\n",
        "\n",
        "The dataset is based on the **House Sales in King County, USA** dataset, which can be found, for example, on kaggle.com or in the `moderndive` library under the name `house_prices`. The original dataset contains house sale prices in the King County area, which includes Seattle, and the data was collected between May 2014 and May 2015. For our purposes, several variables have been removed, and the dataset has been significantly reduced and slightly modified.\n",
        "\n",
        "The dataset has already been split into three parts and modified, all of which will be used progressively throughout this assignment.\n",
        "\n",
        "---\n",
        "\n",
        "## Variables Description\n",
        "\n",
        "The dataset contains the following 18 variables, and our goal is to explore the influence of 12 of them on the target variable `price`.\n",
        "\n",
        "| Feature         | Description                                           |\n",
        "|------------------|-------------------------------------------------------|\n",
        "| `id`            | Unique identifier for a house                         |\n",
        "| `price`         | Sale price (prediction target)                        |\n",
        "| `bedrooms`      | Number of bedrooms                                    |\n",
        "| `bathrooms`     | Number of bathrooms                                   |\n",
        "| `sqft_living`   | Square footage of the home                            |\n",
        "| `sqft_lot`      | Square footage of the lot                             |\n",
        "| `floors`        | Total number of floors (levels) in the house          |\n",
        "| `waterfront`    | Whether the house has a waterfront view               |\n",
        "| `view`          | Number of times the house has been viewed             |\n",
        "| `condition`     | Overall condition of the house                        |\n",
        "| `grade`         | Overall grade given to the housing unit               |\n",
        "| `sqft_above`    | Square footage of the house apart from the basement   |\n",
        "| `sqft_basement` | Square footage of the basement                        |\n",
        "| `yr_built`      | Year the house was built                              |\n",
        "| `yr_renovated`  | Year when the house was renovated                     |\n",
        "| `sqft_living15` | Living room area in 2015 (after renovations)          |\n",
        "| `sqft_lot15`    | Lot size in 2015 (after renovations)                  |\n",
        "| `split`         | Splitting variable with train, test, and validation samples |\n",
        "\n",
        "---\n"
      ],
      "metadata": {
        "id": "WQJA5t5UlK9k"
      }
    },
    {
      "cell_type": "code",
      "source": [
        "import pandas as pd\n",
        "import seaborn as sns\n",
        "\n",
        "# Load the dataset\n",
        "url = \"https://raw.githubusercontent.com/francji1/01RAD/main/data/01RAD_2024_house.csv\"\n",
        "data = pd.read_csv(url)\n",
        "\n",
        "# Display the first few rows of the dataset\n",
        "data.head()\n"
      ],
      "metadata": {
        "id": "b4IQE-BBl5S5"
      },
      "execution_count": null,
      "outputs": []
    },
    {
      "cell_type": "markdown",
      "source": [
        "\n",
        "---\n",
        "\n",
        "## Exploratory and Graphical Analysis\n",
        "\n",
        "### Question 1\n",
        "\n",
        "Verify the dimensions of the dataset, the types of individual variables, and summarize the basic descriptive statistics of all variables. Plot a histogram and a density estimate for the target variable `price`. Can anything be inferred for future analysis?\n",
        "\n",
        "---\n",
        "\n",
        "### Question 2\n",
        "\n",
        "Are all variables usable for analysis and prediction of house prices? If the data contains missing values (or strange or nonsensical observations), can they be imputed (corrected), or must they be removed from the dataset?\n",
        "\n",
        "---\n",
        "\n",
        "### Question 3\n",
        "\n",
        "For the selected variables (`price`, `sqft_living`, `grade`, `yr_built`), verify whether the split into train, test, and validation datasets was random. That is, do these variables have approximately the same distributions across the train, test, and validation groups?\n",
        "\n",
        "---\n"
      ],
      "metadata": {
        "id": "AMYcRDfIllU7"
      }
    },
    {
      "cell_type": "code",
      "source": [
        "# Verify the dimensions of the dataset\n",
        "\n",
        "dimensions = data.shape\n",
        "\n",
        "\n",
        "\n",
        "# Check the types of individual variables\n",
        "\n",
        "data_types = data.dtypes\n",
        "\n",
        "\n",
        "\n",
        "# Summarize the basic descriptive statistics of all variables\n",
        "\n",
        "summary_stats = data.describe(include='all')\n",
        "\n",
        "# Display the results\n",
        "\n",
        "dimensions, data_types, summary_stats"
      ],
      "metadata": {
        "id": "bZ_MVRHbmmnO",
        "collapsed": true
      },
      "execution_count": null,
      "outputs": []
    },
    {
      "cell_type": "markdown",
      "source": [],
      "metadata": {
        "id": "cUpwFHExyKFE"
      }
    },
    {
      "cell_type": "code",
      "source": [
        "import matplotlib.pyplot as plt\n",
        "\n",
        "# List of variables to plot histograms for\n",
        "variables_to_plot = [\n",
        "    \"price\", \"bedrooms\", \"bathrooms\", \"sqft_living\", \"sqft_lot\", \"floors\",\n",
        "    \"waterfront\", \"view\", \"condition\", \"grade\", \"sqft_above\", \"sqft_basement\",\n",
        "    \"yr_built\", \"yr_renovated\", \"sqft_living15\", \"sqft_lot15\"\n",
        "]\n",
        "\n",
        "# Plot histograms\n",
        "plt.figure(figsize=(20, 15))\n",
        "for i, variable in enumerate(variables_to_plot, 1):\n",
        "    plt.subplot(4, 4, i)  # Create a grid of 4x4\n",
        "    plt.hist(data[variable], bins=30, edgecolor='k', alpha=0.7)\n",
        "    plt.title(variable)\n",
        "    plt.xlabel(variable)\n",
        "    plt.ylabel(\"Frequency\")\n",
        "\n",
        "plt.tight_layout()\n",
        "plt.show()"
      ],
      "metadata": {
        "id": "a29acwdMF4PO",
        "collapsed": true
      },
      "execution_count": null,
      "outputs": []
    },
    {
      "cell_type": "markdown",
      "source": [
        "Boxplots:"
      ],
      "metadata": {
        "id": "pvmexjH6-BUA"
      }
    },
    {
      "cell_type": "code",
      "source": [
        "numeric_columns1 = data.select_dtypes(include=['float64', 'int64'])\n",
        "\n",
        "# Loop through each numeric column and plot a boxplot\n",
        "for col in numeric_columns1.columns:\n",
        "    plt.figure(figsize=(8, 4))\n",
        "    sns.boxplot(x=numeric_columns1[col], color='skyblue')\n",
        "    plt.title(f\"Boxplot of {col}\", fontsize=16)\n",
        "    plt.xlabel(col, fontsize=12)\n",
        "    plt.grid(axis='x', linestyle='--', alpha=0.7)\n",
        "    plt.show()"
      ],
      "metadata": {
        "collapsed": true,
        "id": "t-IAkSyd-Cri"
      },
      "execution_count": null,
      "outputs": []
    },
    {
      "cell_type": "code",
      "source": [
        "# Plot a density estimate for the target variable 'price'\n",
        "plt.figure(figsize=(25, 15))\n",
        "plt.subplot(2,2,1)\n",
        "plt.hist(data['price'], bins=100, edgecolor='k', alpha=0.7)\n",
        "plt.title('Frequency of price')\n",
        "plt.xlabel('Price')\n",
        "plt.ylabel(\"Frequency\")\n",
        "plt.subplot(2,2,2)\n",
        "sns.kdeplot(data['price'], fill=True, color='blue', alpha=0.6)\n",
        "plt.title(\"Density Estimate of Price\", fontsize=16)\n",
        "plt.xlabel(\"Price\", fontsize=12)\n",
        "plt.ylabel(\"Density\", fontsize=12)\n",
        "plt.grid(True, alpha=0.3)\n",
        "plt.tight_layout()\n",
        "plt.show()"
      ],
      "metadata": {
        "id": "rNCTNQXjzHMU",
        "collapsed": true
      },
      "execution_count": null,
      "outputs": []
    },
    {
      "cell_type": "code",
      "source": [
        "# Plot histogram and density estimate for the target variable price\n",
        "plt.figure(figsize=(12, 6))\n",
        "data['price'].hist(bins=100, alpha=0.7, label='Histogram', density=True)\n",
        "data['price'].plot(kind='kde', label='Density Estimate', color='red')\n",
        "plt.title('Distribution of Sale Price')\n",
        "plt.xlabel('Price')\n",
        "plt.ylabel('Frequency/Density')\n",
        "plt.legend()\n",
        "plt.show()"
      ],
      "metadata": {
        "collapsed": true,
        "id": "UoWX7S9-RZWM"
      },
      "execution_count": null,
      "outputs": []
    },
    {
      "cell_type": "markdown",
      "source": [
        "Většina naměřených dat v hodnotách kolem milionu dolarů, zatímco pár měření výrazně přes milion - 4, 6, 7, přes 8.\n",
        "\n",
        "---\n",
        "\n"
      ],
      "metadata": {
        "id": "IuDVqS5g0W3p"
      }
    },
    {
      "cell_type": "code",
      "source": [
        "plt.figure(figsize=(10, 6))\n",
        "plt.scatter(data['price'], data['sqft_living'], alpha=0.5, color='blue')\n",
        "plt.title(\"Scatter Plot: Price vs. Living Area\", fontsize=16)\n",
        "plt.xlabel(\"Price\", fontsize=12)\n",
        "plt.ylabel(\"Living Area (sqft)\", fontsize=12)\n",
        "plt.grid(True, alpha=0.3)\n",
        "plt.show()"
      ],
      "metadata": {
        "id": "SdLE5rD-1aQa",
        "collapsed": true
      },
      "execution_count": null,
      "outputs": []
    },
    {
      "cell_type": "code",
      "source": [
        "plt.figure(figsize=(10, 6))\n",
        "plt.scatter(data['price'], data['sqft_lot'], alpha=0.5, color='blue')\n",
        "plt.title(\"Scatter Plot: Price vs. Lot area\", fontsize=16)\n",
        "plt.xlabel(\"Price\", fontsize=12)\n",
        "plt.ylabel(\"Lot Area (sqft)\", fontsize=12)\n",
        "plt.grid(True, alpha=0.3)\n",
        "plt.show()"
      ],
      "metadata": {
        "collapsed": true,
        "id": "iqwjajnOfFeU"
      },
      "execution_count": null,
      "outputs": []
    },
    {
      "cell_type": "markdown",
      "source": [
        "Zdá se, že hodnoty s vysokou cenou mohou být zatíženy chybou (panem Francem), neboť se nezdá že by reflektovaly trend a pro obrovské ceny mají velmi malou Living Area, stejně jako poměrně nízké ceny v poměru s obrovksými Living Area"
      ],
      "metadata": {
        "id": "kFcdW9iU4sQu"
      }
    },
    {
      "cell_type": "markdown",
      "source": [
        "### Question 2\n",
        "\n",
        "Are all variables usable for analysis and prediction of house prices? If the data contains missing values (or strange or nonsensical observations), can they be imputed (corrected), or must they be removed from the dataset?\n",
        "\n",
        "\n",
        "---\n",
        "\n"
      ],
      "metadata": {
        "id": "yajoC58B4KML"
      }
    },
    {
      "cell_type": "markdown",
      "source": [
        "Vzhledem k tomu, že nevíme jaké jsou správné hodnoty, navrhruji nevyhovující hodnoty vyhodit. \\\\\n",
        "Např jak zmíněno výše: posledních několik hodnot u price jsou nepoměrně velké k ostatním a nedávají smysl, stejně jako hodnoty s nesmyslně velkým Living Area za neadekvátní ceny.  \\\\\n",
        "\n",
        "Proměnná grade ná zřejmě také outliera, neboť se vyskytuje jedna hodnota 232 která narušuje všechny ostatní statistiky \\\\\n",
        "\n",
        "Proměnná Waterfall view by mohla činit problémy neboť je u většiny 0, ale je to dalši typ kategorické proměnné a je možné pro ni dělat regresi zvlášť? \\\\\n"
      ],
      "metadata": {
        "id": "96AE_YQL46PH"
      }
    },
    {
      "cell_type": "code",
      "source": [
        "# Check for NaN values\n",
        "nan_summary = data.isnull().sum()\n",
        "\n",
        "# Display columns with NaN values only\n",
        "nan_columns = nan_summary[nan_summary > 0]\n",
        "\n",
        "print(\"Columns with NaN values:\")\n",
        "print(nan_columns)"
      ],
      "metadata": {
        "id": "-53g6X9Z4Rw3"
      },
      "execution_count": null,
      "outputs": []
    },
    {
      "cell_type": "markdown",
      "source": [
        "No columns with NaN values"
      ],
      "metadata": {
        "id": "ipPW46nvO0WG"
      }
    },
    {
      "cell_type": "code",
      "source": [
        "# Filter data to remove outliers\n",
        "filtered_house_data = data[\n",
        "    (data['bathrooms'] < 5) &\n",
        "    (data['sqft_living'] < 10000) &\n",
        "    (data['sqft_lot'] < 30000) &\n",
        "    (data['sqft_living15'] < 10000) &\n",
        "    (data['sqft_lot15'] < 30000) &\n",
        "    (data['price'] < 4000000) &\n",
        "    (data['grade'] < 20)\n",
        "]\n",
        "\n",
        "# Summarize the basic descriptive statistics of all variables\n",
        "summary_stats = filtered_house_data.describe(include='all')\n",
        "summary_stats"
      ],
      "metadata": {
        "collapsed": true,
        "id": "JXIZrzelh8Ol"
      },
      "execution_count": null,
      "outputs": []
    },
    {
      "cell_type": "markdown",
      "source": [
        "Odebral jsem některé hodnoty podle plotů jednotlivých proměnných a podle histogramů. Postupoval jsem podle nějakých logických úsudků - living area větší než 10000 ft^2 neboli 929 m^2 nedává smysl, tak jsem to tímto způsobem omezil. Stejně jako cena nemovitosti - v scatter plotu price ku living space jsou byty s velmi malými living space řádově o několik milionu dražší, což nedává z logiky věci smysl, a proto jsem ji omezil (je otázka jesli mohu omezit cenu když je to naše target proměnná). Obdobně grade dává smysl 0-10, vyskytuje se ale i hodnota 13. Lot area je také - při velmi nízkých cenách prodeje jsou velmi obrovské pozemky, v řádu 2800 m^2."
      ],
      "metadata": {
        "id": "CwdqqRCzO4Eb"
      }
    },
    {
      "cell_type": "code",
      "source": [
        "import matplotlib.pyplot as plt\n",
        "\n",
        "# List of variables to plot histograms for\n",
        "variables_to_plot = [\n",
        "    \"price\", \"bedrooms\", \"bathrooms\", \"sqft_living\", \"sqft_lot\", \"floors\",\n",
        "    \"waterfront\", \"view\", \"condition\", \"grade\", \"sqft_above\", \"sqft_basement\",\n",
        "    \"yr_built\", \"yr_renovated\", \"sqft_living15\", \"sqft_lot15\"\n",
        "]\n",
        "\n",
        "# Plot histograms\n",
        "plt.figure(figsize=(20, 15))\n",
        "for i, variable in enumerate(variables_to_plot, 1):\n",
        "    plt.subplot(4, 4, i)  # Create a grid of 4x4\n",
        "    plt.hist(filtered_house_data[variable], bins=30, edgecolor='k', alpha=0.7)\n",
        "    plt.title(variable)\n",
        "    plt.xlabel(variable)\n",
        "    plt.ylabel(\"Frequency\")\n",
        "\n",
        "plt.tight_layout()\n",
        "plt.show()"
      ],
      "metadata": {
        "collapsed": true,
        "id": "FjiCTYmciDYJ"
      },
      "execution_count": null,
      "outputs": []
    },
    {
      "cell_type": "code",
      "source": [
        "# Loop through each numeric column and plot a boxplot\n",
        "for col in filtered_house_data.columns:\n",
        "    plt.figure(figsize=(8, 4))\n",
        "    sns.boxplot(x=filtered_house_data[col], color='skyblue')\n",
        "    plt.title(f\"Boxplot of {col}\", fontsize=16)\n",
        "    plt.xlabel(col, fontsize=12)\n",
        "    plt.grid(axis='x', linestyle='--', alpha=0.7)\n",
        "    plt.show()"
      ],
      "metadata": {
        "collapsed": true,
        "id": "4RCFni4x_aAE"
      },
      "execution_count": null,
      "outputs": []
    },
    {
      "cell_type": "code",
      "source": [
        "# Select a subset of columns to visualize (price and continuous variables)\n",
        "columns_to_plot = ['price', 'bedrooms', 'bathrooms', 'sqft_living', 'sqft_lot',\n",
        "                   'floors', 'view', 'sqft_above', 'sqft_basement',\n",
        "                   'yr_built', 'yr_renovated', 'sqft_living15', 'sqft_lot15']\n",
        "\n",
        "# Create pairplot\n",
        "sns.pairplot(filtered_house_data[columns_to_plot], diag_kind='hist', height=2.5)\n",
        "plt.show()"
      ],
      "metadata": {
        "collapsed": true,
        "id": "1FXbbbvZ6urJ"
      },
      "execution_count": null,
      "outputs": []
    },
    {
      "cell_type": "markdown",
      "source": [
        "### Question 3\n",
        "\n",
        "For the selected variables (`price`, `sqft_living`, `grade`, `yr_built`), verify whether the split into train, test, and validation datasets was random. That is, do these variables have approximately the same distributions across the train, test, and validation groups?\n",
        "\n",
        "---"
      ],
      "metadata": {
        "id": "U3pTNFaV69Pj"
      }
    },
    {
      "cell_type": "code",
      "source": [
        "selected_variables = ['price', 'sqft_living', 'grade', 'yr_built']\n",
        "\n",
        "# Plot density estimates for each variable across train, test, and validation\n",
        "for variable in selected_variables:\n",
        "    plt.figure(figsize=(10, 6))\n",
        "    sns.kdeplot(data=data, x=variable, hue='split', fill=True, common_norm=False, alpha=0.5)\n",
        "    plt.title(f\"Distribution of {variable} across Train, Test, and Validation\", fontsize=16)\n",
        "    plt.xlabel(variable, fontsize=12)\n",
        "    plt.ylabel(\"Density\", fontsize=12)\n",
        "    plt.grid(True, alpha=0.3)\n",
        "    # plt.legend(title=\"Dataset Split\")\n",
        "    plt.show()"
      ],
      "metadata": {
        "id": "cqLgexTx7Xnl",
        "collapsed": true
      },
      "execution_count": null,
      "outputs": []
    },
    {
      "cell_type": "markdown",
      "source": [
        "There are visual problems with the spolit of the variable grade."
      ],
      "metadata": {
        "id": "0s3FCIlM1p1G"
      }
    },
    {
      "cell_type": "code",
      "source": [
        "    from scipy.stats import ks_2samp, f_oneway, kruskal\n",
        "\n",
        "    # Group by split\n",
        "    train_data = data[data['split'] == 'train']\n",
        "    test_data = data[data['split'] == 'test']\n",
        "    validation_data = data[data['split'] == 'validation']\n",
        "\n",
        "    for variable in selected_variables:\n",
        "        print(f\"\\n=== Analysis for {variable} ===\")\n",
        "\n",
        "        # Kolmogorov-Smirnov Test: Train vs Test\n",
        "        ks_train_test = ks_2samp(train_data[variable], test_data[variable])\n",
        "        print(f\"KS Test (Train vs Test): Statistic={ks_train_test.statistic:.4f}, p-value={ks_train_test.pvalue:.4f}\")\n",
        "\n",
        "        # Kolmogorov-Smirnov Test: Train vs Validation\n",
        "        ks_train_validation = ks_2samp(train_data[variable], validation_data[variable])\n",
        "        print(f\"KS Test (Train vs Validation): Statistic={ks_train_validation.statistic:.4f}, p-value={ks_train_validation.pvalue:.4f}\")\n",
        "\n",
        "        # Kolmogorov-Smirnov Test: Test vs Validation\n",
        "        ks_test_validation = ks_2samp(test_data[variable], validation_data[variable])\n",
        "        print(f\"KS Test (Test vs Validation): Statistic={ks_test_validation.statistic:.4f}, p-value={ks_test_validation.pvalue:.4f}\")\n",
        "\n",
        "        # ANOVA\n",
        "        anova_result = f_oneway(train_data[variable], test_data[variable], validation_data[variable])\n",
        "        print(f\"ANOVA: F-statistic={anova_result.statistic:.4f}, p-value={anova_result.pvalue:.4f}\")\n",
        "\n",
        "        # Kruskal-Wallis Test\n",
        "        kruskal_result = kruskal(train_data[variable], test_data[variable], validation_data[variable])\n",
        "        print(f\"Kruskal-Wallis Test: H-statistic={kruskal_result.statistic:.4f}, p-value={kruskal_result.pvalue:.4f}\")"
      ],
      "metadata": {
        "id": "eKl7haEm-vLn"
      },
      "execution_count": null,
      "outputs": []
    },
    {
      "cell_type": "markdown",
      "source": [
        "Pouze u analýzy 'grade' nám p-value u Anovy vyšla velmi nízká, ale i tak ne menší než 0.05, takže bychom hypotézu, že jsou střední hodnoty tří rozdělení odlišné nezamítly. I když na obrázku PDFs je vidět, že split u grade není tak podobný jako u jiných proměnných"
      ],
      "metadata": {
        "id": "rQIeChIq_UaC"
      }
    },
    {
      "cell_type": "markdown",
      "source": [
        "\n",
        "## Linear Model (Use Only Training Data, i.e., split == \"train\")\n",
        "\n",
        "### Question 4\n",
        "\n",
        "Calculate the correlations between the regressors and visualize them. Also, compute the condition number (Kappa) and the variance inflation factor (VIF). If multicollinearity is present, decide which variables to use and justify your choices.\n",
        "\n",
        "---\n",
        "\n",
        "### Question 5\n",
        "\n",
        "Using only the training data (split == \"train\") and all selected variables, find a suitable linear regression model that best predicts the target variable `price`, i.e., minimizes the mean squared error (MSE). Compare the VIF and Kappa values of the final model to those of the original regressor matrix.\n",
        "\n",
        "---\n",
        "\n",
        "### Question 6\n",
        "\n",
        "For your selected model from the previous question, calculate the relevant influence measures. Provide the `id` for the top 20 observations with the highest values of DIFF, the highest leverage (hat values), and the highest Cook’s distance (i.e., 3 sets of 20 values). Which observations do you consider influential or outliers?\n",
        "\n",
        "---\n",
        "\n",
        "### Question 7\n",
        "\n",
        "Validate the model graphically using residual plots (Residual vs. Fitted, QQ-plot, Cook’s distance, leverage, etc.). Based on this and the previous question, did you identify any suspicious observations in the data that might have resulted from dataset adjustments? Would you recommend removing these observations from the data?\n",
        "\n",
        "---\n"
      ],
      "metadata": {
        "id": "vmyvXCcamkp6"
      }
    },
    {
      "cell_type": "code",
      "source": [
        "import statsmodels.api as sm\n",
        "from numpy.linalg import cond\n",
        "from statsmodels.stats.outliers_influence import variance_inflation_factor\n",
        "from statsmodels.tools.tools import add_constant"
      ],
      "metadata": {
        "id": "fiJqGnvYZLpb"
      },
      "execution_count": null,
      "outputs": []
    },
    {
      "cell_type": "code",
      "source": [
        "# Check if the 'split' column exists\n",
        "if 'split' not in filtered_house_data.columns:\n",
        "    print(\"The dataset does not contain a 'split' column.\")\n",
        "else:\n",
        "    # Filter the dataset for the 'train' split\n",
        "    train_data = filtered_house_data[filtered_house_data['split'] == 'train']"
      ],
      "metadata": {
        "id": "pFbi4_npX_SJ"
      },
      "execution_count": null,
      "outputs": []
    },
    {
      "cell_type": "code",
      "source": [
        "print(train_data.columns)"
      ],
      "metadata": {
        "id": "pidfqcuo8asR"
      },
      "execution_count": null,
      "outputs": []
    },
    {
      "cell_type": "markdown",
      "source": [
        "Veličiny 'split', 'Unnamed: 0', 'id', 'sqft_living', 'sqft_lot' byly odebrány, neboť první dvě nejsou spojeny s datasetem a 'sqft_living', 'sqft_lot' mají své obdovy, naměřeny v roce 2015, tedy jsou velmi závislé na těchto hodnotách. Po jejich odebrání jsou hodnoty vif poměrně nízké, tedy multikolinearita byla omezena."
      ],
      "metadata": {
        "id": "E_LQT8v8ASC4"
      }
    },
    {
      "cell_type": "code",
      "source": [
        "# Select only numeric columns\n",
        "# numeric_columns = train_data.select_dtypes(include=['number'])\n",
        "\n",
        "numeric_columns = train_data.drop(['split', 'Unnamed: 0', 'id', 'sqft_living', 'sqft_lot'], axis=1)\n",
        "\n",
        "# Compute the correlation matrix\n",
        "correlation_matrix = numeric_columns.corr()\n",
        "\n",
        "# Plot the heatmap\n",
        "plt.figure(figsize=(12, 8))\n",
        "sns.heatmap(correlation_matrix, annot=True, fmt=\".2f\", cmap='coolwarm', cbar=True)\n",
        "plt.title('Correlation Heatmap')\n",
        "plt.show()\n",
        "\n"
      ],
      "metadata": {
        "id": "69VHJntQrlJV",
        "collapsed": true
      },
      "execution_count": null,
      "outputs": []
    },
    {
      "cell_type": "code",
      "source": [
        "    # 2. Condition Number (Kappa)\n",
        "    condition_number = cond(numeric_columns.values)\n",
        "    print(f\"Condition Number (Kappa): {condition_number:.2f}\")"
      ],
      "metadata": {
        "id": "103NQ0S5Y1vA"
      },
      "execution_count": null,
      "outputs": []
    },
    {
      "cell_type": "code",
      "source": [
        "    # 3. Variance Inflation Factor (VIF)\n",
        "    # Add a constant to X for intercept\n",
        "    X_with_const = sm.add_constant(numeric_columns)\n",
        "\n",
        "    vif_data = pd.DataFrame()\n",
        "    vif_data['Variable'] = numeric_columns.columns\n",
        "    vif_data['VIF'] = [variance_inflation_factor(X_with_const.values, i + 1) for i in range(len(numeric_columns.columns))]\n",
        "    print(\"\\nVariance Inflation Factor (VIF):\")\n",
        "    print(vif_data)"
      ],
      "metadata": {
        "id": "NgoDTNxRY2II"
      },
      "execution_count": null,
      "outputs": []
    },
    {
      "cell_type": "markdown",
      "source": [
        "Data jsou přeškálována pro lepší výsledky koeficientu Kappa - interpretabilita modelu je nyní závislá na škálování - **pak už ale nepoužíváno**"
      ],
      "metadata": {
        "id": "UD8A4-lu_OsD"
      }
    },
    {
      "cell_type": "code",
      "source": [
        "from sklearn.preprocessing import StandardScaler\n",
        "import numpy as np\n",
        "\n",
        "# Standardize the features (but not the target variable)\n",
        "scaler = StandardScaler()\n",
        "new_test_standardized = scaler.fit_transform(numeric_columns)\n",
        "\n",
        "# Add constant (intercept) to the standardized features\n",
        "X_with_const_standardized = add_constant(new_test_standardized)\n",
        "\n",
        "# Calculate the Condition Number (Kappa)\n",
        "condition_number_standardized = np.linalg.cond(X_with_const_standardized)\n",
        "print(f\"Condition Number (Kappa) after standardization: {condition_number_standardized}\")\n",
        "\n",
        "\n",
        "scaled_df = pd.DataFrame(new_test_standardized, columns=numeric_columns.columns)"
      ],
      "metadata": {
        "id": "hCEqmyxivZeQ"
      },
      "execution_count": null,
      "outputs": []
    },
    {
      "cell_type": "code",
      "source": [
        "numeric_columns.columns"
      ],
      "metadata": {
        "id": "vB26v00YCYwy"
      },
      "execution_count": null,
      "outputs": []
    },
    {
      "cell_type": "code",
      "source": [
        "from sklearn.linear_model import LinearRegression\n",
        "from statsmodels.stats.outliers_influence import variance_inflation_factor\n",
        "from sklearn.metrics import mean_squared_error\n",
        "\n",
        "selected_variables = ['bedrooms', 'bathrooms', 'floors', 'waterfront', 'view',\n",
        "                      'condition', 'grade', 'sqft_above', 'sqft_basement', 'yr_built',\n",
        "                      'yr_renovated', 'sqft_living15', 'sqft_lot15']\n",
        "\n",
        "X = numeric_columns[selected_variables]\n",
        "y = numeric_columns['price']\n",
        "\n",
        "# Add constant term for the intercept in the OLS model\n",
        "X_const = sm.add_constant(X)\n",
        "\n",
        "# 1. Train the Linear Regression Model\n",
        "linear_reg_model = sm.OLS(y, X_const).fit()\n",
        "\n",
        "# 2. Calculate VIF for the original data (before fitting the model)\n",
        "vif_data = pd.DataFrame()\n",
        "vif_data[\"Variable\"] = X_const.columns\n",
        "vif_data[\"VIF\"] = [variance_inflation_factor(X_const.values, i) for i in range(X_const.shape[1])]\n",
        "print(\"VIF for the Original Regressor Matrix:\")\n",
        "print(vif_data)\n",
        "\n",
        "# 3. Calculate the Condition Number (Kappa) for the original data\n",
        "condition_number_original = np.linalg.cond(X_const)\n",
        "print(f\"Condition Number (Kappa) for the Original Regressor Matrix: {condition_number_original:.2f}\")\n",
        "\n",
        "# 4. Evaluate the Model: Calculate predictions and Mean Squared Error (MSE)\n",
        "y_pred = linear_reg_model.predict(X_const)\n",
        "mse = mean_squared_error(y, y_pred)\n",
        "print(f\"Mean Squared Error (MSE) for the Full Dataset: {mse:.2f}\")\n",
        "\n",
        "# 5. Check the final VIF and Condition Number for the trained model\n",
        "# Since the training process doesn't change the dataset itself, VIF and condition number are the same as before.\n",
        "# However, if you were to select or drop features during the process, these would change.\n",
        "print(\"\\nFinal Model Summary:\")\n",
        "print(linear_reg_model.summary())\n"
      ],
      "metadata": {
        "id": "Bqy6u6vz_v7M"
      },
      "execution_count": null,
      "outputs": []
    },
    {
      "cell_type": "code",
      "source": [
        "# Predictions and residuals\n",
        "predictions = linear_reg_model.predict(X_const)\n",
        "residuals = y - predictions\n",
        "\n",
        "# Mean Squared Error\n",
        "mse = mean_squared_error(y, predictions)\n",
        "print(f\"Mean Squared Error (MSE): {mse}\")\n",
        "\n",
        "# Residual Plot\n",
        "plt.figure(figsize=(10, 6))\n",
        "sns.scatterplot(x=predictions, y=residuals, alpha=0.6)\n",
        "plt.axhline(y=0, color='r', linestyle='--')\n",
        "plt.title(\"Residuals vs Predicted Values\")\n",
        "plt.xlabel(\"Predicted Values\")\n",
        "plt.ylabel(\"Residuals\")\n",
        "plt.show()\n",
        "\n",
        "# Histogram of Residuals\n",
        "plt.figure(figsize=(10, 6))\n",
        "sns.histplot(residuals, kde=True, bins=30, color='blue')\n",
        "plt.title(\"Histogram of Residuals\")\n",
        "plt.xlabel(\"Residuals\")\n",
        "plt.ylabel(\"Frequency\")\n",
        "plt.show()\n",
        "\n",
        "# QQ Plot\n",
        "sm.qqplot(residuals, line='45', fit=True)\n",
        "plt.title(\"QQ Plot of Residuals\")\n",
        "plt.show()\n",
        "\n",
        "# Check for Heteroscedasticity\n",
        "plt.figure(figsize=(10, 6))\n",
        "sns.scatterplot(x=predictions, y=abs(residuals), alpha=0.6)\n",
        "plt.title(\"Absolute Residuals vs Predicted Values (Heteroscedasticity Check)\")\n",
        "plt.xlabel(\"Predicted Values\")\n",
        "plt.ylabel(\"Absolute Residuals\")\n",
        "plt.axhline(y=0, color='r', linestyle='--')\n",
        "plt.show()"
      ],
      "metadata": {
        "collapsed": true,
        "id": "l5cszahUOqB0"
      },
      "execution_count": null,
      "outputs": []
    },
    {
      "cell_type": "markdown",
      "source": [
        "Na nepřeškálovaná data byla provedena logaritmická transformace, neboť residua vykazují Heteroscedasticitu."
      ],
      "metadata": {
        "id": "-WQYZBeQ8ZjB"
      }
    },
    {
      "cell_type": "code",
      "source": [
        "from numpy import log\n",
        "\n",
        "# Check for zero or negative values in the target variable\n",
        "print(y[y <= 0])\n",
        "\n",
        "# Count zero or negative values\n",
        "print(f\"Number of zero or negative values: {(y <= 0).sum()}\")\n",
        "\n",
        "print(y.head())\n",
        "\n",
        "\n",
        "# Apply log transformation to target variable\n",
        "y_log = np.log(y + 1)  # Shift by 1 to avoid log(0)\n",
        "\n",
        "# Re-fit the model\n",
        "model_log = sm.OLS(y_log, X_const).fit()\n",
        "print(model_log.summary())\n",
        "\n",
        "# Check residuals again\n",
        "predictions_log = model_log.predict(X_const)\n",
        "residuals_log = y_log - predictions_log\n"
      ],
      "metadata": {
        "id": "M8Sd90EAPshr"
      },
      "execution_count": null,
      "outputs": []
    },
    {
      "cell_type": "code",
      "source": [
        "\n",
        "# 2. Calculate VIF for the original data (before fitting the model)\n",
        "vif_data = pd.DataFrame()\n",
        "vif_data[\"Variable\"] = X_const.columns\n",
        "vif_data[\"VIF\"] = [variance_inflation_factor(X_const.values, i) for i in range(X_const.shape[1])]\n",
        "print(\"VIF for the Original Regressor Matrix:\")\n",
        "print(vif_data)\n",
        "\n",
        "# 3. Calculate the Condition Number (Kappa) for the original data\n",
        "condition_number_original = np.linalg.cond(X_const)\n",
        "print(f\"Condition Number (Kappa) for the Original Regressor Matrix: {condition_number_original:.2f}\")\n",
        "\n",
        "# 4. Evaluate the Model: Calculate predictions and Mean Squared Error (MSE)\n",
        "mse = mean_squared_error(y_log, predictions_log)\n",
        "print(f\"Mean Squared Error (MSE) for the Full Dataset: {mse:.2f}\")"
      ],
      "metadata": {
        "id": "ui8eGNoqBLQy"
      },
      "execution_count": null,
      "outputs": []
    },
    {
      "cell_type": "code",
      "source": [
        "# Mean Squared Error\n",
        "mse = mean_squared_error(y, predictions_log)\n",
        "print(f\"Mean Squared Error (MSE): {mse}\")\n",
        "\n",
        "# Residual Plot\n",
        "plt.figure(figsize=(10, 6))\n",
        "sns.scatterplot(x=predictions_log, y=residuals_log, alpha=0.6)\n",
        "plt.axhline(y=0, color='r', linestyle='--')\n",
        "plt.title(\"Residuals vs Predicted Values\")\n",
        "plt.xlabel(\"Predicted Values\")\n",
        "plt.ylabel(\"Residuals\")\n",
        "plt.show()\n",
        "\n",
        "# Histogram of Residuals\n",
        "plt.figure(figsize=(10, 6))\n",
        "sns.histplot(residuals_log, kde=True, bins=30, color='blue')\n",
        "plt.title(\"Histogram of Residuals\")\n",
        "plt.xlabel(\"Residuals\")\n",
        "plt.ylabel(\"Frequency\")\n",
        "plt.show()\n",
        "\n",
        "# QQ Plot\n",
        "sm.qqplot(residuals_log, line='45', fit=True)\n",
        "plt.title(\"QQ Plot of Residuals\")\n",
        "plt.show()\n",
        "\n",
        "# Check for Heteroscedasticity\n",
        "plt.figure(figsize=(10, 6))\n",
        "sns.scatterplot(x=predictions_log, y=abs(residuals_log), alpha=0.6)\n",
        "plt.title(\"Absolute Residuals vs Predicted Values (Heteroscedasticity Check)\")\n",
        "plt.xlabel(\"Predicted Values\")\n",
        "plt.ylabel(\"Absolute Residuals\")\n",
        "plt.axhline(y=0, color='r', linestyle='--')\n",
        "plt.show()"
      ],
      "metadata": {
        "collapsed": true,
        "id": "NbZh21SWVHhM"
      },
      "execution_count": null,
      "outputs": []
    },
    {
      "cell_type": "code",
      "source": [
        "selected_variables2 = ['bedrooms', 'bathrooms', 'floors', 'view',\n",
        "                      'condition', 'grade', 'sqft_above', 'sqft_basement', 'yr_built',\n",
        "                       'sqft_living15', 'sqft_lot15']\n",
        "\n",
        "X1 = numeric_columns[selected_variables2]\n",
        "\n",
        "# Add constant term for the intercept in the OLS model\n",
        "X_const1 = sm.add_constant(X1)\n",
        "\n",
        "# Re-fit the model\n",
        "model_log1 = sm.OLS(y_log, X_const1).fit()\n",
        "\n",
        "print(model_log1.summary())\n"
      ],
      "metadata": {
        "id": "NWuvm5lIMGtP"
      },
      "execution_count": null,
      "outputs": []
    },
    {
      "cell_type": "code",
      "source": [
        "print(len(selected_variables))"
      ],
      "metadata": {
        "id": "ALfscStfTgHW"
      },
      "execution_count": null,
      "outputs": []
    },
    {
      "cell_type": "code",
      "source": [
        "# Assume `model` is your fitted OLS model\n",
        "influence = model_log.get_influence()\n",
        "\n",
        "# Extract influence measures\n",
        "dfbetas = influence.dfbetas  # DIFF (standardized changes in coefficients)\n",
        "leverage = influence.hat_matrix_diag  # Leverage (hat values)\n",
        "cooks_d = influence.cooks_distance[0]  # Cook's distance\n",
        "\n",
        "# Create a DataFrame to store these values along with observation IDs\n",
        "influence_measures = pd.DataFrame({\n",
        "    'Observation': range(len(dfbetas)),  # Assuming the index matches row numbers\n",
        "    'Leverage': leverage,\n",
        "    'Cooks_D': cooks_d,\n",
        "    'DIFF': dfbetas.max(axis=1)  # Taking the largest DFBETA value for each observation\n",
        "})\n",
        "\n",
        "# Sort and select top 20 for each measure\n",
        "top_diff = influence_measures.nlargest(20, 'DIFF')\n",
        "top_leverage = influence_measures.nlargest(20, 'Leverage')\n",
        "top_cooks_d = influence_measures.nlargest(20, 'Cooks_D')\n",
        "\n",
        "\n",
        "# Display top 20 observations for each measure\n",
        "print(\"Top 20 Observations by DIFF:\")\n",
        "print(top_diff)\n",
        "\n",
        "print(\"\\nTop 20 Observations by Leverage:\")\n",
        "print(top_leverage)\n",
        "\n",
        "print(\"\\nTop 20 Observations by Cook's Distance:\")\n",
        "print(top_cooks_d)"
      ],
      "metadata": {
        "collapsed": true,
        "id": "2MAyP7fcXJsb"
      },
      "execution_count": null,
      "outputs": []
    },
    {
      "cell_type": "code",
      "source": [
        "def summarize_influence_measures_with_data(model, data):\n",
        "    \"\"\"\n",
        "    Summarize influence measures, flag outliers, and include original data columns.\n",
        "\n",
        "    :param model: Fitted regression model object from statsmodels.\n",
        "    :param data: DataFrame used to fit the regression model.\n",
        "    :return: DataFrame summarizing influence measures, flagged outliers, and original data.\n",
        "    \"\"\"\n",
        "    influence = model.get_influence()\n",
        "\n",
        "    # Extract measures\n",
        "    leverage = influence.hat_matrix_diag\n",
        "    cooks_distance = influence.cooks_distance[0]\n",
        "    dffits = influence.dffits[0]\n",
        "    dfbetas = influence.dfbetas\n",
        "    cov_ratios = influence.cov_ratio\n",
        "\n",
        "    # Number of observations and predictors\n",
        "    n = int(model.nobs)\n",
        "    p = int(model.df_model) + 1  # Add 1 to include the intercept\n",
        "\n",
        "    # Rule of Thumb thresholds\n",
        "    leverage_threshold = 2 * (p) / n\n",
        "    cooks_distance_threshold = 4 / n\n",
        "    dffits_threshold = 2 * np.sqrt((p) / n)\n",
        "    dfbetas_threshold = 2 / np.sqrt(n)\n",
        "\n",
        "    # Summarize outliers based on thresholds\n",
        "    flagged = {\n",
        "        'High Leverage': leverage > leverage_threshold,\n",
        "        'High Cook\\'s Distance': cooks_distance > cooks_distance_threshold,\n",
        "        'High DFFITS': np.abs(dffits) > dffits_threshold,\n",
        "    }\n",
        "\n",
        "    # Flag observations with high DFBETAS for any predictor\n",
        "    for j in range(dfbetas.shape[1]):\n",
        "        flagged[f'High DFBETAS (Predictor {j})'] = np.abs(dfbetas[:, j]) > dfbetas_threshold\n",
        "\n",
        "    # Create summary DataFrame\n",
        "    summary_df = pd.DataFrame({\n",
        "        'Leverage': leverage,\n",
        "        'Cook\\'s Distance': cooks_distance,\n",
        "        'DFFITS': dffits,\n",
        "        'Covariance Ratio': cov_ratios\n",
        "    })\n",
        "\n",
        "    # Add flags for rule-of-thumb violations\n",
        "    for key, flag in flagged.items():\n",
        "        summary_df[key] = flag\n",
        "\n",
        "    # Combine summary DataFrame with original data\n",
        "    summary_with_data = pd.concat([data.reset_index(drop=True), summary_df], axis=1)\n",
        "\n",
        "    # Select rows where any flag is True\n",
        "    flag_columns = [col for col in summary_df.columns if 'High' in col]\n",
        "    flagged_observations = summary_with_data.loc[summary_df[flag_columns].any(axis=1)]\n",
        "\n",
        "    return summary_with_data, flagged_observations\n"
      ],
      "metadata": {
        "id": "5_uNv5-HNgEO"
      },
      "execution_count": null,
      "outputs": []
    },
    {
      "cell_type": "code",
      "source": [
        "# Apply the function\n",
        "all_observations_with_im, flagged_observations = summarize_influence_measures_with_data(model_log, numeric_columns)\n",
        "\n",
        "# Display the flagged observations\n",
        "flagged_observations"
      ],
      "metadata": {
        "id": "-fGDBXkzNkDn"
      },
      "execution_count": null,
      "outputs": []
    },
    {
      "cell_type": "code",
      "source": [
        "# Number of observations and predictors\n",
        "n = int(model_log.nobs)\n",
        "p = int(model_log.df_model) + 1  # Include intercept\n",
        "\n",
        "# Define thresholds\n",
        "leverage_threshold = 2 * p / n\n",
        "cooks_d_threshold = 4 / n\n",
        "dffits_threshold = 2 * np.sqrt(p / n)\n",
        "dfbetas_threshold = 2 / np.sqrt(n)\n",
        "\n",
        "\n",
        "summary_influence = influence.summary_frame()"
      ],
      "metadata": {
        "id": "ne6wMzv4OgFe"
      },
      "execution_count": null,
      "outputs": []
    },
    {
      "cell_type": "code",
      "source": [
        "# Identify observations exceeding the threshold\n",
        "cooks_d = summary_influence['cooks_d']\n",
        "influential_obs = cooks_d > cooks_d_threshold\n",
        "influential_indices = summary_influence[influential_obs].index\n",
        "\n",
        "# Create the stem plot of Cook's Distance\n",
        "plt.figure(figsize=(12, 8))\n",
        "markerline, stemlines, baseline = plt.stem(\n",
        "    summary_influence.index, cooks_d, markerfmt=\",\", basefmt=\" \"\n",
        ")\n",
        "plt.axhline(y=cooks_d_threshold, color='red', linestyle='--', label=f'Threshold ({cooks_d_threshold:.4f})')\n",
        "plt.xlabel('Observation Index')\n",
        "plt.ylabel(\"Cook's Distance\")\n",
        "plt.title(\"Cook's Distance for Each Observation\")\n",
        "plt.legend()\n",
        "\n",
        "# Annotate influential observations\n",
        "for idx in influential_indices:\n",
        "    plt.annotate(\n",
        "        str(idx),\n",
        "        (idx, cooks_d[idx]),\n",
        "        textcoords=\"offset points\",\n",
        "        xytext=(0, 10),  # Offset label above the point\n",
        "        ha='center',\n",
        "        fontsize=9,\n",
        "        color='blue'\n",
        "    )\n",
        "\n",
        "plt.show()\n"
      ],
      "metadata": {
        "id": "cOQZ6poaOWtW"
      },
      "execution_count": null,
      "outputs": []
    },
    {
      "cell_type": "markdown",
      "source": [
        "\n",
        "## Robust Approach\n",
        "\n",
        "### Question 8\n",
        "\n",
        "If you decided to remove any observations from the dataset, work with the filtered dataset, retrain the model from Question 5, and calculate the $R^2$ statistic and MSE on both the training and test data (split == \"test\").\n",
        "\n",
        "---\n",
        "\n",
        "### Question 9\n",
        "\n",
        "Estimate the regression coefficients using a robust method, such as Total Least Squares (TLS), on both the filtered dataset (after removing any observations, if applicable) and the original full dataset. Compare the results and discuss any differences in the estimated coefficients and model performance. What insights can you draw about the impact of filtering observations on model robustness?\n",
        "\n",
        "---\n",
        "### Question 10\n",
        "\n",
        "Explore additional robust regression approaches (e.g., Huber regression, quantile regression, or M-estimators) to estimate the regression coefficients on the filtered and full datasets. Compare the results across these methods, discussing the strengths and limitations of each approach in the context of predicting house prices in the King County area. How do these robust methods handle potential outliers or influential observations in the data?\n",
        "\n",
        "---\n",
        "### Question 11\n",
        "\n",
        "Select the final model and compare the MSE and $R^2$ on the training, test, and validation datasets. What do these values suggest about the quality of the model and potential overfitting? Is your model suitable for predicting house prices in the King County area? If so, does this prediction have any limitations?\n",
        "\n"
      ],
      "metadata": {
        "id": "OGfHy5Gwrkp9"
      }
    },
    {
      "cell_type": "markdown",
      "source": [
        "### Question 8\n",
        "\n",
        "If you decided to remove any observations from the dataset, work with the filtered dataset, retrain the model from Question 5, and calculate the $R^2$ statistic and MSE on both the training and test data (split == \"test\").\n",
        "\n",
        "---\n"
      ],
      "metadata": {
        "id": "FGkX2F0Kq269"
      }
    },
    {
      "cell_type": "code",
      "source": [
        "test_data = filtered_house_data[filtered_house_data['split'] == 'test']\n",
        "# Select only numeric columns\n",
        "\n",
        "numeric_columns3 = test_data.drop(['split', 'Unnamed: 0', 'id', 'sqft_living', 'sqft_lot'], axis=1)\n",
        "\n",
        "\n",
        "X2 = numeric_columns3[selected_variables]\n",
        "y2 = numeric_columns3['price']\n",
        "\n",
        "# Add constant term for the intercept in the OLS model\n",
        "X_const2 = sm.add_constant(X2)\n",
        "\n",
        "# Apply log transformation to target variable\n",
        "y_log2 = np.log(y2 + 1)  # Shift by 1 to avoid log(0)\n",
        "\n",
        "# Re-fit the model\n",
        "model_log2 = sm.OLS(y_log2, X_const2).fit()\n",
        "print(model_log2.summary())\n",
        "\n",
        "# Check residuals again\n",
        "predictions_log2 = model_log2.predict(X_const2)\n",
        "residuals_log2 = y_log2 - predictions_log2"
      ],
      "metadata": {
        "id": "Vajj99RbrW0G"
      },
      "execution_count": null,
      "outputs": []
    },
    {
      "cell_type": "code",
      "source": [
        "from sklearn.metrics import mean_squared_error\n",
        "\n",
        "# R² and MSE on Training Data\n",
        "r2_train = model_log.rsquared\n",
        "mse_train = mean_squared_error(y_log, predictions_log)\n",
        "\n",
        "# R² and MSE on Test Data\n",
        "r2_test = model_log1.rsquared  # Use the R² of the model (same for both train/test as it's the fit metric)\n",
        "mse_test = mean_squared_error(y_log2, predictions_log2)\n",
        "\n",
        "# Print results\n",
        "print(f\"R² on Training Data: {r2_train:.4f}\")\n",
        "print(f\"MSE on Training Data: {mse_train:.4f}\")\n",
        "print(f\"R² on Test Data: {r2_test:.4f}\")\n",
        "print(f\"MSE on Test Data: {mse_test:.4f}\")\n"
      ],
      "metadata": {
        "id": "-T0xFLyktWxh"
      },
      "execution_count": null,
      "outputs": []
    },
    {
      "cell_type": "markdown",
      "source": [
        "### Question 9\n",
        "\n",
        "Estimate the regression coefficients using a robust method, such as Total Least Squares (TLS), on both the filtered dataset (after removing any observations, if applicable) and the original full dataset. Compare the results and discuss any differences in the estimated coefficients and model performance. What insights can you draw about the impact of filtering observations on model robustness?\n",
        "\n",
        "---"
      ],
      "metadata": {
        "id": "4qtnKaaNvjhZ"
      }
    },
    {
      "cell_type": "code",
      "source": [
        "data_train = data.drop(['Unnamed: 0', 'id',], axis=1)\n",
        "data_train = data_train[data_train['split'] == 'train']\n",
        "X_full = data_train[selected_variables2]\n",
        "yi = data_train['price']\n",
        "# Apply log transformation to target variable\n",
        "y_full = np.log(yi + 1)  # Shift by 1 to avoid log(0)"
      ],
      "metadata": {
        "id": "PWJYGnLA6uT1"
      },
      "execution_count": null,
      "outputs": []
    },
    {
      "cell_type": "code",
      "source": [
        "from scipy.odr import ODR, Model, RealData\n",
        "\n",
        "# Define a function for the regression model (linear regression)\n",
        "def linear_func(beta, X):\n",
        "    # beta[:-1] for predictors, beta[-1] for intercept\n",
        "    return np.dot(X, beta[:-1]) + beta[-1]\n",
        "\n",
        "\n",
        "# Prepare data for TLS\n",
        "def perform_tls(data, selected_variables2, target):\n",
        "    # Extract predictors (X) and target (y) from the data\n",
        "    X = data[selected_variables2].values\n",
        "    y = data[target].values\n",
        "\n",
        "    X = np.asarray(X)\n",
        "    y = np.asarray(y)\n",
        "\n",
        "    # Create RealData object\n",
        "    real_data = RealData(X, y)\n",
        "    print(\"RealData successfully created.\")\n",
        "\n",
        "    # Define the model\n",
        "    linear_model = Model(linear_func)\n",
        "\n",
        "    # Add a column for the intercept in the initialization of beta\n",
        "    initial_beta = np.zeros(X.shape[1] + 1)  # +1 for the intercept\n",
        "\n",
        "    print(\"X shape:\", X.shape)\n",
        "    print(\"y shape:\", y.shape)\n",
        "    print(\"Initial beta length:\", len(initial_beta))\n",
        "\n",
        "\n",
        "    # Fit the model using ODR\n",
        "    try:\n",
        "        odr = ODR(real_data, linear_model, beta0=initial_beta)\n",
        "        odr_result = odr.run()\n",
        "        print(\"ODR completed successfully.\")\n",
        "        print(\"Coefficients:\", odr_result.beta)\n",
        "    except Exception as e:\n",
        "        print(\"ODR encountered an error:\", e)\n",
        " #   return odr_result.beta, odr_result\n",
        "\n",
        "target = 'price'\n",
        "\n",
        "# TLS on the full dataset\n",
        "coefficients_full, odr_result_full = perform_tls(data_train, selected_variables, target)\n",
        "\n",
        "# TLS on the filtered dataset (if applicable)\n",
        "coefficients_filtered, odr_result_filtered = perform_tls(numeric_columns, selected_variables, target)\n",
        "\n",
        "# Print the results\n",
        "print(\"Coefficients (Full Dataset):\")\n",
        "print(coefficients_full)\n",
        "\n",
        "print(\"\\nCoefficients (Filtered Dataset):\")\n",
        "print(coefficients_filtered)\n",
        "\n",
        "# Calculate MSE and R^2 for each dataset\n",
        "def calculate_metrics(data, coefficients, selected_variables2, target):\n",
        "    X = data[selected_variables2].values\n",
        "    y = data[target].values\n",
        "\n",
        "    # Add intercept term\n",
        "    X = np.hstack([X, np.ones((X.shape[0], 1))])\n",
        "\n",
        "    # Predicted values\n",
        "    y_pred = np.dot(X, coefficients)\n",
        "\n",
        "    # Calculate metrics\n",
        "    mse = mean_squared_error(y, y_pred)\n",
        "    r2 = r2_score(y, y_pred)\n",
        "    return mse, r2\n",
        "\n",
        "# Metrics for the full dataset\n",
        "mse_full, r2_full = calculate_metrics(numeric_columns1, coefficients_full, selected_variables2, target)\n",
        "\n",
        "# Metrics for the filtered dataset\n",
        "mse_filtered, r2_filtered = calculate_metrics(numeric_columns, coefficients_filtered, selected_variables2, target)\n",
        "\n",
        "print(\"\\nPerformance Metrics (Full Dataset):\")\n",
        "print(f\"MSE: {mse_full:.4f}, R^2: {r2_full:.4f}\")\n",
        "\n",
        "print(\"\\nPerformance Metrics (Filtered Dataset):\")\n",
        "print(f\"MSE: {mse_filtered:.4f}, R^2: {r2_filtered:.4f}\")"
      ],
      "metadata": {
        "id": "KUMg5RSnvizg"
      },
      "execution_count": null,
      "outputs": []
    },
    {
      "cell_type": "markdown",
      "source": [
        "### Question 10\n",
        "\n",
        "Explore additional robust regression approaches (e.g., Huber regression, quantile regression, or M-estimators) to estimate the regression coefficients on the filtered and full datasets. Compare the results across these methods, discussing the strengths and limitations of each approach in the context of predicting house prices in the King County area. How do these robust methods handle potential outliers or influential observations in the data?\n",
        "\n",
        "---"
      ],
      "metadata": {
        "id": "5TG7AaT5mNu7"
      }
    },
    {
      "cell_type": "code",
      "source": [
        "from sklearn.linear_model import HuberRegressor\n",
        "\n",
        "# Fit Huber Regressor\n",
        "huber_model = HuberRegressor()\n",
        "huber_model.fit(X_const, y_log)\n",
        "\n",
        "# Predictions and performance\n",
        "y_pred_filtered = huber_model.predict(X_const)\n",
        "mse_filtered = mean_squared_error(y_log, y_pred_filtered)\n",
        "\n",
        "print(\"Huber Regression Coefficients (Filtered):\", huber_model.coef_)\n",
        "print(\"Huber Regression MSE (Filtered):\", mse_filtered)\n",
        "\n",
        "# Refit on the full dataset\n",
        "huber_model.fit(X_full, y_full)\n",
        "y_pred_full = huber_model.predict(X_full)\n",
        "mse_full = mean_squared_error(y_full, y_pred_full)\n",
        "\n",
        "print(\"Huber Regression Coefficients (Full):\", huber_model.coef_)\n",
        "print(\"Huber Regression MSE (Full):\", mse_full)\n"
      ],
      "metadata": {
        "id": "Y1v_iivgmOvo"
      },
      "execution_count": null,
      "outputs": []
    },
    {
      "cell_type": "code",
      "source": [
        "from statsmodels.regression.quantile_regression import QuantReg\n",
        "\n",
        "# Fit Quantile Regression for the median\n",
        "quantile_model = QuantReg(y_log, add_constant(X_const))\n",
        "quantile_results_filtered = quantile_model.fit(q=0.5)\n",
        "print(\"Quantile Regression Summary (Filtered):\")\n",
        "print(quantile_results_filtered.summary())\n",
        "\n",
        "# Refit on the full dataset\n",
        "quantile_model_full = QuantReg(y_full, add_constant(X_full))\n",
        "quantile_results_full = quantile_model_full.fit(q=0.5)\n",
        "print(\"Quantile Regression Summary (Full):\")\n",
        "print(quantile_results_full.summary())\n"
      ],
      "metadata": {
        "id": "McUMzqmAnc-N"
      },
      "execution_count": null,
      "outputs": []
    },
    {
      "cell_type": "code",
      "source": [
        "from statsmodels.robust.robust_linear_model import RLM\n",
        "\n",
        "# Fit RLM using Huber's T norm\n",
        "rlm_model = RLM(y_log, add_constant(X_const))\n",
        "rlm_results_filtered = rlm_model.fit()\n",
        "print(\"RLM Summary (Filtered):\")\n",
        "print(rlm_results_filtered.summary())\n",
        "\n",
        "# Refit on the full dataset\n",
        "rlm_model_full = RLM(y_full, add_constant(X_full))\n",
        "rlm_results_full = rlm_model_full.fit()\n",
        "print(\"RLM Summary (Full):\")\n",
        "print(rlm_results_full.summary())\n"
      ],
      "metadata": {
        "id": "ufOEnZ4HnxMN"
      },
      "execution_count": null,
      "outputs": []
    },
    {
      "cell_type": "markdown",
      "source": [
        "### Question 11\n",
        "\n",
        "Select the final model and compare the MSE and $R^2$ on the training, test, and validation datasets. What do these values suggest about the quality of the model and potential overfitting? Is your model suitable for predicting house prices in the King County area? If so, does this prediction have any limitations?"
      ],
      "metadata": {
        "id": "dXKHnAdIt02t"
      }
    },
    {
      "cell_type": "code",
      "source": [],
      "metadata": {
        "id": "Ztuqmaslt38z"
      },
      "execution_count": null,
      "outputs": []
    },
    {
      "cell_type": "markdown",
      "source": [
        "---\n",
        "\n",
        "## Voluntary part: Machine Learning Approach\n",
        "\n",
        "\n",
        "### Question 12\n",
        "Apply machine learning-based linear regression methods, such as Ridge Regression, Lasso, or Elastic Net, to the dataset. Use the train-test split to evaluate model performance and focus on feature selection. Identify the most relevant features based on these methods and compare how the selected features impact the model's predictive performance. Discuss how regularization affects feature selection and the trade-offs between bias and variance in the context of house price prediction. Additionally, evaluate the stability of selected features across different methods and provide recommendations for choosing the optimal feature set.\n"
      ],
      "metadata": {
        "id": "ySe_Y1iFqwzk"
      }
    },
    {
      "cell_type": "code",
      "source": [],
      "metadata": {
        "id": "5kse02wVrWfK"
      },
      "execution_count": null,
      "outputs": []
    }
  ]
}